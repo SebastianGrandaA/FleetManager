{
 "cells": [
  {
   "cell_type": "code",
   "execution_count": 3,
   "id": "26bd276e-e260-415d-b7c3-f3c8a7aed2e8",
   "metadata": {},
   "outputs": [],
   "source": [
    "from pandas import read_csv\n",
    "from keplergl import KeplerGl"
   ]
  },
  {
   "cell_type": "code",
   "execution_count": 4,
   "id": "b1096cb8-b366-4004-a86d-dcb43f7f3e69",
   "metadata": {},
   "outputs": [],
   "source": [
    "height = 400 # CAMBIAR!\n",
    "city = \"PE|lima\"\n",
    "config = {\n",
    "    'version': 'v1',\n",
    "    'config': {\n",
    "        'mapState': {\n",
    "            'latitude': -12.135520,\n",
    "            'longitude': -77.021701,\n",
    "            'zoom': 12.32053899007826\n",
    "        }\n",
    "    }\n",
    "}"
   ]
  },
  {
   "cell_type": "code",
   "execution_count": 6,
   "id": "45f4f95e-9755-40b8-a67a-3d6e49bf0905",
   "metadata": {},
   "outputs": [],
   "source": [
    "df = read_csv('../results/grid.csv')"
   ]
  },
  {
   "cell_type": "markdown",
   "id": "fc35be95-1cd5-425e-b269-c2a8bd79b42e",
   "metadata": {},
   "source": [
    "## Deficit map"
   ]
  },
  {
   "cell_type": "code",
   "execution_count": 5,
   "id": "e9e54366-ac0c-47e8-91ea-bc75d17dd034",
   "metadata": {},
   "outputs": [],
   "source": [
    "deficit_map = df[['hexagonID', 'orders', 'couriers', 'capacity']]"
   ]
  },
  {
   "cell_type": "code",
   "execution_count": 6,
   "id": "c7acc017-4a6b-4c9b-9ca0-5765a72d6ed0",
   "metadata": {},
   "outputs": [],
   "source": [
    "deficit_hexagons = deficit_map.loc[deficit_map['capacity'] < 0]"
   ]
  },
  {
   "cell_type": "code",
   "execution_count": 7,
   "id": "32dfee30-7fe6-49ee-b0f1-ff6f26d09892",
   "metadata": {},
   "outputs": [
    {
     "name": "stdout",
     "output_type": "stream",
     "text": [
      "User Guide: https://docs.kepler.gl/docs/keplergl-jupyter\n",
      "Map saved to deficit_map.html!\n"
     ]
    }
   ],
   "source": [
    "KeplerGl(height=height, data={'base': deficit_map, 'deficits': deficit_hexagons}, config=config).save_to_html(file_name='deficit_map.html')"
   ]
  },
  {
   "cell_type": "markdown",
   "id": "1ae5bb40-aa45-4644-9a2f-279be55b22b8",
   "metadata": {},
   "source": [
    "## Fleet size map"
   ]
  },
  {
   "cell_type": "code",
   "execution_count": 7,
   "id": "1de85e9f",
   "metadata": {},
   "outputs": [
    {
     "data": {
      "text/html": [
       "<div>\n",
       "<style scoped>\n",
       "    .dataframe tbody tr th:only-of-type {\n",
       "        vertical-align: middle;\n",
       "    }\n",
       "\n",
       "    .dataframe tbody tr th {\n",
       "        vertical-align: top;\n",
       "    }\n",
       "\n",
       "    .dataframe thead th {\n",
       "        text-align: right;\n",
       "    }\n",
       "</style>\n",
       "<table border=\"1\" class=\"dataframe\">\n",
       "  <thead>\n",
       "    <tr style=\"text-align: right;\">\n",
       "      <th></th>\n",
       "      <th>hexagonID</th>\n",
       "      <th>orders</th>\n",
       "      <th>couriers</th>\n",
       "      <th>capacity</th>\n",
       "      <th>demand_observations</th>\n",
       "      <th>neighbors</th>\n",
       "      <th>fleet_size</th>\n",
       "      <th>pool_benefit</th>\n",
       "      <th>is_hub</th>\n",
       "      <th>fleet_pool</th>\n",
       "      <th>required_fleet</th>\n",
       "      <th>is_receiver</th>\n",
       "      <th>is_provider</th>\n",
       "      <th>is_balanced</th>\n",
       "    </tr>\n",
       "  </thead>\n",
       "  <tbody>\n",
       "    <tr>\n",
       "      <th>0</th>\n",
       "      <td>888e62c0e7fffff</td>\n",
       "      <td>4</td>\n",
       "      <td>2</td>\n",
       "      <td>-2</td>\n",
       "      <td>[2, 1, 2, 4, 2, 4, 5, 3, 5, 2]</td>\n",
       "      <td>[\"888e62c0e7fffff\", \"888e62c0e5fffff\", \"888e62...</td>\n",
       "      <td>Main.Models.FleetSize(Distributions.Poisson{Fl...</td>\n",
       "      <td>0.479570</td>\n",
       "      <td>True</td>\n",
       "      <td>Dict{Symbol, Real}(:safety_fleet =&gt; 0)</td>\n",
       "      <td>4</td>\n",
       "      <td>True</td>\n",
       "      <td>False</td>\n",
       "      <td>False</td>\n",
       "    </tr>\n",
       "    <tr>\n",
       "      <th>1</th>\n",
       "      <td>888e62c707fffff</td>\n",
       "      <td>11</td>\n",
       "      <td>11</td>\n",
       "      <td>0</td>\n",
       "      <td>[16, 6, 11, 9, 8, 10, 8, 9, 12, 15]</td>\n",
       "      <td>String[]</td>\n",
       "      <td>Main.Models.FleetSize(Distributions.Poisson{Fl...</td>\n",
       "      <td>0.392836</td>\n",
       "      <td>False</td>\n",
       "      <td>Dict{Symbol, Real}()</td>\n",
       "      <td>12</td>\n",
       "      <td>True</td>\n",
       "      <td>False</td>\n",
       "      <td>False</td>\n",
       "    </tr>\n",
       "    <tr>\n",
       "      <th>2</th>\n",
       "      <td>888e62c1d5fffff</td>\n",
       "      <td>11</td>\n",
       "      <td>6</td>\n",
       "      <td>-5</td>\n",
       "      <td>[4, 14, 12, 12, 11, 7, 9, 17, 10, 10]</td>\n",
       "      <td>[\"888e62c1d5fffff\", \"888e62c1c3fffff\", \"888e62...</td>\n",
       "      <td>Main.Models.FleetSize(Distributions.Poisson{Fl...</td>\n",
       "      <td>0.444723</td>\n",
       "      <td>True</td>\n",
       "      <td>Dict{Symbol, Real}(:safety_fleet =&gt; 1)</td>\n",
       "      <td>14</td>\n",
       "      <td>True</td>\n",
       "      <td>False</td>\n",
       "      <td>False</td>\n",
       "    </tr>\n",
       "    <tr>\n",
       "      <th>3</th>\n",
       "      <td>888e62c095fffff</td>\n",
       "      <td>2</td>\n",
       "      <td>2</td>\n",
       "      <td>0</td>\n",
       "      <td>[0, 1, 0, 2, 2, 1, 1, 0, 2, 0]</td>\n",
       "      <td>String[]</td>\n",
       "      <td>Main.Models.FleetSize(Distributions.Poisson{Fl...</td>\n",
       "      <td>0.594148</td>\n",
       "      <td>False</td>\n",
       "      <td>Dict{Symbol, Real}()</td>\n",
       "      <td>2</td>\n",
       "      <td>True</td>\n",
       "      <td>False</td>\n",
       "      <td>False</td>\n",
       "    </tr>\n",
       "    <tr>\n",
       "      <th>4</th>\n",
       "      <td>888e62c085fffff</td>\n",
       "      <td>1</td>\n",
       "      <td>2</td>\n",
       "      <td>1</td>\n",
       "      <td>[1, 2, 3, 1, 0, 0, 4, 1, 1, 1]</td>\n",
       "      <td>String[]</td>\n",
       "      <td>Main.Models.FleetSize(Distributions.Poisson{Fl...</td>\n",
       "      <td>0.546466</td>\n",
       "      <td>False</td>\n",
       "      <td>Dict{Symbol, Real}()</td>\n",
       "      <td>1</td>\n",
       "      <td>True</td>\n",
       "      <td>False</td>\n",
       "      <td>False</td>\n",
       "    </tr>\n",
       "    <tr>\n",
       "      <th>...</th>\n",
       "      <td>...</td>\n",
       "      <td>...</td>\n",
       "      <td>...</td>\n",
       "      <td>...</td>\n",
       "      <td>...</td>\n",
       "      <td>...</td>\n",
       "      <td>...</td>\n",
       "      <td>...</td>\n",
       "      <td>...</td>\n",
       "      <td>...</td>\n",
       "      <td>...</td>\n",
       "      <td>...</td>\n",
       "      <td>...</td>\n",
       "      <td>...</td>\n",
       "    </tr>\n",
       "    <tr>\n",
       "      <th>220</th>\n",
       "      <td>888e62c589fffff</td>\n",
       "      <td>0</td>\n",
       "      <td>1</td>\n",
       "      <td>1</td>\n",
       "      <td>[0, 0, 0, 0, 0, 0, 0, 0, 0, 0]</td>\n",
       "      <td>String[]</td>\n",
       "      <td>Main.Models.FleetSize(Distributions.Poisson{Fl...</td>\n",
       "      <td>NaN</td>\n",
       "      <td>False</td>\n",
       "      <td>Dict{Symbol, Real}()</td>\n",
       "      <td>-1</td>\n",
       "      <td>False</td>\n",
       "      <td>True</td>\n",
       "      <td>False</td>\n",
       "    </tr>\n",
       "    <tr>\n",
       "      <th>221</th>\n",
       "      <td>888e62ced7fffff</td>\n",
       "      <td>0</td>\n",
       "      <td>1</td>\n",
       "      <td>1</td>\n",
       "      <td>[0, 0, 0, 0, 0, 0, 0, 0, 0, 0]</td>\n",
       "      <td>String[]</td>\n",
       "      <td>Main.Models.FleetSize(Distributions.Poisson{Fl...</td>\n",
       "      <td>0.000000</td>\n",
       "      <td>False</td>\n",
       "      <td>Dict{Symbol, Real}()</td>\n",
       "      <td>-1</td>\n",
       "      <td>False</td>\n",
       "      <td>True</td>\n",
       "      <td>False</td>\n",
       "    </tr>\n",
       "    <tr>\n",
       "      <th>222</th>\n",
       "      <td>888e62c18bfffff</td>\n",
       "      <td>0</td>\n",
       "      <td>1</td>\n",
       "      <td>1</td>\n",
       "      <td>[0, 0, 0, 0, 0, 0, 0, 0, 0, 0]</td>\n",
       "      <td>String[]</td>\n",
       "      <td>Main.Models.FleetSize(Distributions.Poisson{Fl...</td>\n",
       "      <td>0.000000</td>\n",
       "      <td>False</td>\n",
       "      <td>Dict{Symbol, Real}()</td>\n",
       "      <td>-1</td>\n",
       "      <td>False</td>\n",
       "      <td>True</td>\n",
       "      <td>False</td>\n",
       "    </tr>\n",
       "    <tr>\n",
       "      <th>223</th>\n",
       "      <td>888e62c1c7fffff</td>\n",
       "      <td>0</td>\n",
       "      <td>1</td>\n",
       "      <td>1</td>\n",
       "      <td>[0, 0, 0, 0, 0, 0, 0, 0, 0, 0]</td>\n",
       "      <td>String[]</td>\n",
       "      <td>Main.Models.FleetSize(Distributions.Poisson{Fl...</td>\n",
       "      <td>0.371915</td>\n",
       "      <td>False</td>\n",
       "      <td>Dict{Symbol, Real}()</td>\n",
       "      <td>-1</td>\n",
       "      <td>False</td>\n",
       "      <td>True</td>\n",
       "      <td>False</td>\n",
       "    </tr>\n",
       "    <tr>\n",
       "      <th>224</th>\n",
       "      <td>888e62d1bbfffff</td>\n",
       "      <td>0</td>\n",
       "      <td>1</td>\n",
       "      <td>1</td>\n",
       "      <td>[0, 0, 0, 0, 0, 0, 0, 0, 0, 0]</td>\n",
       "      <td>String[]</td>\n",
       "      <td>Main.Models.FleetSize(Distributions.Poisson{Fl...</td>\n",
       "      <td>0.000000</td>\n",
       "      <td>False</td>\n",
       "      <td>Dict{Symbol, Real}()</td>\n",
       "      <td>-1</td>\n",
       "      <td>False</td>\n",
       "      <td>True</td>\n",
       "      <td>False</td>\n",
       "    </tr>\n",
       "  </tbody>\n",
       "</table>\n",
       "<p>225 rows × 14 columns</p>\n",
       "</div>"
      ],
      "text/plain": [
       "           hexagonID  orders  couriers  capacity  \\\n",
       "0    888e62c0e7fffff       4         2        -2   \n",
       "1    888e62c707fffff      11        11         0   \n",
       "2    888e62c1d5fffff      11         6        -5   \n",
       "3    888e62c095fffff       2         2         0   \n",
       "4    888e62c085fffff       1         2         1   \n",
       "..               ...     ...       ...       ...   \n",
       "220  888e62c589fffff       0         1         1   \n",
       "221  888e62ced7fffff       0         1         1   \n",
       "222  888e62c18bfffff       0         1         1   \n",
       "223  888e62c1c7fffff       0         1         1   \n",
       "224  888e62d1bbfffff       0         1         1   \n",
       "\n",
       "                       demand_observations  \\\n",
       "0           [2, 1, 2, 4, 2, 4, 5, 3, 5, 2]   \n",
       "1      [16, 6, 11, 9, 8, 10, 8, 9, 12, 15]   \n",
       "2    [4, 14, 12, 12, 11, 7, 9, 17, 10, 10]   \n",
       "3           [0, 1, 0, 2, 2, 1, 1, 0, 2, 0]   \n",
       "4           [1, 2, 3, 1, 0, 0, 4, 1, 1, 1]   \n",
       "..                                     ...   \n",
       "220         [0, 0, 0, 0, 0, 0, 0, 0, 0, 0]   \n",
       "221         [0, 0, 0, 0, 0, 0, 0, 0, 0, 0]   \n",
       "222         [0, 0, 0, 0, 0, 0, 0, 0, 0, 0]   \n",
       "223         [0, 0, 0, 0, 0, 0, 0, 0, 0, 0]   \n",
       "224         [0, 0, 0, 0, 0, 0, 0, 0, 0, 0]   \n",
       "\n",
       "                                             neighbors  \\\n",
       "0    [\"888e62c0e7fffff\", \"888e62c0e5fffff\", \"888e62...   \n",
       "1                                             String[]   \n",
       "2    [\"888e62c1d5fffff\", \"888e62c1c3fffff\", \"888e62...   \n",
       "3                                             String[]   \n",
       "4                                             String[]   \n",
       "..                                                 ...   \n",
       "220                                           String[]   \n",
       "221                                           String[]   \n",
       "222                                           String[]   \n",
       "223                                           String[]   \n",
       "224                                           String[]   \n",
       "\n",
       "                                            fleet_size  pool_benefit  is_hub  \\\n",
       "0    Main.Models.FleetSize(Distributions.Poisson{Fl...      0.479570    True   \n",
       "1    Main.Models.FleetSize(Distributions.Poisson{Fl...      0.392836   False   \n",
       "2    Main.Models.FleetSize(Distributions.Poisson{Fl...      0.444723    True   \n",
       "3    Main.Models.FleetSize(Distributions.Poisson{Fl...      0.594148   False   \n",
       "4    Main.Models.FleetSize(Distributions.Poisson{Fl...      0.546466   False   \n",
       "..                                                 ...           ...     ...   \n",
       "220  Main.Models.FleetSize(Distributions.Poisson{Fl...           NaN   False   \n",
       "221  Main.Models.FleetSize(Distributions.Poisson{Fl...      0.000000   False   \n",
       "222  Main.Models.FleetSize(Distributions.Poisson{Fl...      0.000000   False   \n",
       "223  Main.Models.FleetSize(Distributions.Poisson{Fl...      0.371915   False   \n",
       "224  Main.Models.FleetSize(Distributions.Poisson{Fl...      0.000000   False   \n",
       "\n",
       "                                 fleet_pool  required_fleet  is_receiver  \\\n",
       "0    Dict{Symbol, Real}(:safety_fleet => 0)               4         True   \n",
       "1                      Dict{Symbol, Real}()              12         True   \n",
       "2    Dict{Symbol, Real}(:safety_fleet => 1)              14         True   \n",
       "3                      Dict{Symbol, Real}()               2         True   \n",
       "4                      Dict{Symbol, Real}()               1         True   \n",
       "..                                      ...             ...          ...   \n",
       "220                    Dict{Symbol, Real}()              -1        False   \n",
       "221                    Dict{Symbol, Real}()              -1        False   \n",
       "222                    Dict{Symbol, Real}()              -1        False   \n",
       "223                    Dict{Symbol, Real}()              -1        False   \n",
       "224                    Dict{Symbol, Real}()              -1        False   \n",
       "\n",
       "     is_provider  is_balanced  \n",
       "0          False        False  \n",
       "1          False        False  \n",
       "2          False        False  \n",
       "3          False        False  \n",
       "4          False        False  \n",
       "..           ...          ...  \n",
       "220         True        False  \n",
       "221         True        False  \n",
       "222         True        False  \n",
       "223         True        False  \n",
       "224         True        False  \n",
       "\n",
       "[225 rows x 14 columns]"
      ]
     },
     "execution_count": 7,
     "metadata": {},
     "output_type": "execute_result"
    }
   ],
   "source": [
    "df"
   ]
  },
  {
   "cell_type": "code",
   "execution_count": 8,
   "id": "bdf17b9b-c284-4645-ac26-827af0a0de4c",
   "metadata": {},
   "outputs": [],
   "source": [
    "fleet_size = df[['hexagonID', 'required_fleet', 'capacity', 'demand_observations', 'fleet_size']]"
   ]
  },
  {
   "cell_type": "code",
   "execution_count": 18,
   "id": "de39a1d9-927c-49bb-aec3-ac686ff77c98",
   "metadata": {},
   "outputs": [],
   "source": [
    "# def required_fleet(row):\n",
    "#     result = row['fleet_size'].split(\"), \")\n",
    "\n",
    "#     return int(result[1].split(\", :demand\")[0])"
   ]
  },
  {
   "cell_type": "code",
   "execution_count": 19,
   "id": "91cd9f76-e609-467b-8f2d-8c931cfdc0ba",
   "metadata": {},
   "outputs": [],
   "source": [
    "# required = fleet_size.apply(required_fleet, axis=1)"
   ]
  },
  {
   "cell_type": "code",
   "execution_count": 20,
   "id": "5fe77046-3fbe-4cf7-8237-03c72741872c",
   "metadata": {},
   "outputs": [],
   "source": [
    "# fleet_size.loc[:, 'required_fleet'] = required"
   ]
  },
  {
   "cell_type": "code",
   "execution_count": 9,
   "id": "2dd0ae6a-ee56-46bc-b81a-5f5e46362186",
   "metadata": {},
   "outputs": [
    {
     "name": "stdout",
     "output_type": "stream",
     "text": [
      "User Guide: https://docs.kepler.gl/docs/keplergl-jupyter\n",
      "Map saved to fleet_size_map.html!\n"
     ]
    }
   ],
   "source": [
    "KeplerGl(height=height, data={'base': fleet_size}, config=config).save_to_html(file_name='fleet_size_map.html')"
   ]
  },
  {
   "cell_type": "markdown",
   "id": "3a0affbb-44a3-4fc5-8906-0035b3e470c6",
   "metadata": {},
   "source": [
    "## Fleet pool map"
   ]
  },
  {
   "cell_type": "code",
   "execution_count": 22,
   "id": "5188a0fe-e1d0-4030-ac0b-b3d025abf3a9",
   "metadata": {},
   "outputs": [],
   "source": [
    "fleet_pool = df[['hexagonID', 'capacity', 'pool_benefit', 'is_hub', 'fleet_pool']]"
   ]
  },
  {
   "cell_type": "code",
   "execution_count": 23,
   "id": "ef64e946-b810-425d-9247-2f73795f1ad5",
   "metadata": {},
   "outputs": [],
   "source": [
    "def safety_fleet(row):\n",
    "    result = row['fleet_pool']\n",
    "    \n",
    "    if result != 'Dict{Symbol, Real}()':\n",
    "        return int(result.split(\"safety_fleet => \")[1][:-1])\n",
    "\n",
    "    return 0"
   ]
  },
  {
   "cell_type": "code",
   "execution_count": 24,
   "id": "6550e44a-44e6-4d54-b353-94a94455c0c2",
   "metadata": {},
   "outputs": [],
   "source": [
    "safety = fleet_pool.apply(safety_fleet, axis=1)"
   ]
  },
  {
   "cell_type": "code",
   "execution_count": 26,
   "id": "6babcab0-de52-4884-bc8d-ce7b98143b3a",
   "metadata": {},
   "outputs": [
    {
     "name": "stderr",
     "output_type": "stream",
     "text": [
      "/var/folders/cm/z43qqh5n179fc7qhpyjm71p00000gn/T/ipykernel_12925/1488923038.py:1: SettingWithCopyWarning: \n",
      "A value is trying to be set on a copy of a slice from a DataFrame.\n",
      "Try using .loc[row_indexer,col_indexer] = value instead\n",
      "\n",
      "See the caveats in the documentation: https://pandas.pydata.org/pandas-docs/stable/user_guide/indexing.html#returning-a-view-versus-a-copy\n",
      "  fleet_pool.loc[:, 'safety_fleet'] = safety\n"
     ]
    }
   ],
   "source": [
    "fleet_pool.loc[:, 'safety_fleet'] = safety"
   ]
  },
  {
   "cell_type": "code",
   "execution_count": 27,
   "id": "69e4f69a-fd03-4edd-8592-38e762e13c35",
   "metadata": {},
   "outputs": [],
   "source": [
    "hubs = fleet_pool.loc[fleet_pool['is_hub'] == 1]"
   ]
  },
  {
   "cell_type": "code",
   "execution_count": 28,
   "id": "341db0ee-585c-4096-916a-fa4cb2feda6b",
   "metadata": {},
   "outputs": [
    {
     "name": "stdout",
     "output_type": "stream",
     "text": [
      "User Guide: https://docs.kepler.gl/docs/keplergl-jupyter\n",
      "Map saved to fleet_pool_map.html!\n"
     ]
    },
    {
     "name": "stderr",
     "output_type": "stream",
     "text": [
      "/Users/sebastiangrandaaltamirano/.pyenv/versions/3.10.4/lib/python3.10/site-packages/jupyter_client/session.py:718: UserWarning: Message serialization failed with:\n",
      "Out of range float values are not JSON compliant\n",
      "Supporting this message is deprecated in jupyter-client 7, please make sure your message is JSON-compliant\n",
      "  content = self.pack(content)\n"
     ]
    }
   ],
   "source": [
    "KeplerGl(height=height, data={'base': fleet_pool, 'hubs': hubs}, config=config).save_to_html(file_name='fleet_pool_map.html')"
   ]
  },
  {
   "cell_type": "markdown",
   "id": "16e7f030-6e04-431a-ac52-8ceec28c4d77",
   "metadata": {},
   "source": [
    "## Fleet allocation"
   ]
  },
  {
   "cell_type": "code",
   "execution_count": 30,
   "id": "ac8425e3-6ad7-4dd2-8b75-87f80b95a8ca",
   "metadata": {},
   "outputs": [],
   "source": [
    "relocations = read_csv('../results/relocations.csv')"
   ]
  },
  {
   "cell_type": "code",
   "execution_count": 31,
   "id": "4765b114-74c9-4b18-946d-ac9a039d227a",
   "metadata": {},
   "outputs": [
    {
     "name": "stdout",
     "output_type": "stream",
     "text": [
      "User Guide: https://docs.kepler.gl/docs/keplergl-jupyter\n",
      "Map saved to relocations_map.html!\n"
     ]
    },
    {
     "name": "stderr",
     "output_type": "stream",
     "text": [
      "/Users/sebastiangrandaaltamirano/.pyenv/versions/3.10.4/lib/python3.10/site-packages/jupyter_client/session.py:718: UserWarning: Message serialization failed with:\n",
      "Out of range float values are not JSON compliant\n",
      "Supporting this message is deprecated in jupyter-client 7, please make sure your message is JSON-compliant\n",
      "  content = self.pack(content)\n"
     ]
    }
   ],
   "source": [
    "KeplerGl(height=height, data={'base': df, 'relocations': relocations}, config=config).save_to_html(file_name='relocations_map.html')"
   ]
  },
  {
   "cell_type": "markdown",
   "id": "95c91a19-34ca-47e6-8312-2d8b045223c8",
   "metadata": {},
   "source": [
    "## Benchmark"
   ]
  },
  {
   "cell_type": "code",
   "execution_count": null,
   "id": "ef720520",
   "metadata": {},
   "outputs": [],
   "source": []
  },
  {
   "cell_type": "code",
   "execution_count": 41,
   "id": "28368bf7-60d4-4823-b9c7-bcb0d56c7176",
   "metadata": {},
   "outputs": [],
   "source": [
    "results = read_csv('../results/1.5_metrics.csv')"
   ]
  },
  {
   "cell_type": "code",
   "execution_count": 42,
   "id": "24f5aebe-db17-42bb-8d41-3ebfce694d6f",
   "metadata": {},
   "outputs": [
    {
     "data": {
      "text/plain": [
       "time_improvement    25.512674\n",
       "dtype: float64"
      ]
     },
     "execution_count": 42,
     "metadata": {},
     "output_type": "execute_result"
    }
   ],
   "source": [
    "results[['time_improvement']].mean()"
   ]
  },
  {
   "cell_type": "code",
   "execution_count": 36,
   "id": "eabc9a65-d399-4cb7-a44f-49ea1527376b",
   "metadata": {},
   "outputs": [
    {
     "data": {
      "text/html": [
       "<div>\n",
       "<style scoped>\n",
       "    .dataframe tbody tr th:only-of-type {\n",
       "        vertical-align: middle;\n",
       "    }\n",
       "\n",
       "    .dataframe tbody tr th {\n",
       "        vertical-align: top;\n",
       "    }\n",
       "\n",
       "    .dataframe thead th {\n",
       "        text-align: right;\n",
       "    }\n",
       "</style>\n",
       "<table border=\"1\" class=\"dataframe\">\n",
       "  <thead>\n",
       "    <tr style=\"text-align: right;\">\n",
       "      <th></th>\n",
       "      <th>saturation</th>\n",
       "      <th>avg_time_before</th>\n",
       "      <th>avg_time_after</th>\n",
       "      <th>time_improvement</th>\n",
       "      <th>unassigned_before</th>\n",
       "      <th>unassigned_after</th>\n",
       "      <th>unassigned_improvement</th>\n",
       "    </tr>\n",
       "  </thead>\n",
       "  <tbody>\n",
       "    <tr>\n",
       "      <th>0</th>\n",
       "      <td>0.5</td>\n",
       "      <td>3.176367</td>\n",
       "      <td>2.633322</td>\n",
       "      <td>17.096404</td>\n",
       "      <td>90</td>\n",
       "      <td>90</td>\n",
       "      <td>0.000000</td>\n",
       "    </tr>\n",
       "    <tr>\n",
       "      <th>1</th>\n",
       "      <td>0.5</td>\n",
       "      <td>4.988344</td>\n",
       "      <td>3.555860</td>\n",
       "      <td>28.716632</td>\n",
       "      <td>94</td>\n",
       "      <td>94</td>\n",
       "      <td>0.000000</td>\n",
       "    </tr>\n",
       "    <tr>\n",
       "      <th>2</th>\n",
       "      <td>0.5</td>\n",
       "      <td>6.162925</td>\n",
       "      <td>4.457468</td>\n",
       "      <td>27.672858</td>\n",
       "      <td>89</td>\n",
       "      <td>89</td>\n",
       "      <td>0.000000</td>\n",
       "    </tr>\n",
       "    <tr>\n",
       "      <th>3</th>\n",
       "      <td>0.5</td>\n",
       "      <td>6.605439</td>\n",
       "      <td>4.623605</td>\n",
       "      <td>30.003062</td>\n",
       "      <td>85</td>\n",
       "      <td>85</td>\n",
       "      <td>0.000000</td>\n",
       "    </tr>\n",
       "    <tr>\n",
       "      <th>4</th>\n",
       "      <td>0.5</td>\n",
       "      <td>6.296557</td>\n",
       "      <td>5.037015</td>\n",
       "      <td>20.003652</td>\n",
       "      <td>97</td>\n",
       "      <td>97</td>\n",
       "      <td>0.000000</td>\n",
       "    </tr>\n",
       "    <tr>\n",
       "      <th>5</th>\n",
       "      <td>0.5</td>\n",
       "      <td>4.955131</td>\n",
       "      <td>3.676223</td>\n",
       "      <td>25.809765</td>\n",
       "      <td>103</td>\n",
       "      <td>103</td>\n",
       "      <td>0.000000</td>\n",
       "    </tr>\n",
       "    <tr>\n",
       "      <th>6</th>\n",
       "      <td>0.5</td>\n",
       "      <td>4.940649</td>\n",
       "      <td>4.000183</td>\n",
       "      <td>19.035263</td>\n",
       "      <td>101</td>\n",
       "      <td>101</td>\n",
       "      <td>0.000000</td>\n",
       "    </tr>\n",
       "    <tr>\n",
       "      <th>7</th>\n",
       "      <td>0.5</td>\n",
       "      <td>4.980294</td>\n",
       "      <td>3.469876</td>\n",
       "      <td>30.327889</td>\n",
       "      <td>106</td>\n",
       "      <td>107</td>\n",
       "      <td>-0.943396</td>\n",
       "    </tr>\n",
       "    <tr>\n",
       "      <th>8</th>\n",
       "      <td>0.5</td>\n",
       "      <td>7.193862</td>\n",
       "      <td>5.054947</td>\n",
       "      <td>29.732495</td>\n",
       "      <td>100</td>\n",
       "      <td>100</td>\n",
       "      <td>0.000000</td>\n",
       "    </tr>\n",
       "    <tr>\n",
       "      <th>9</th>\n",
       "      <td>0.5</td>\n",
       "      <td>4.659484</td>\n",
       "      <td>3.299012</td>\n",
       "      <td>29.197919</td>\n",
       "      <td>106</td>\n",
       "      <td>106</td>\n",
       "      <td>0.000000</td>\n",
       "    </tr>\n",
       "    <tr>\n",
       "      <th>10</th>\n",
       "      <td>0.5</td>\n",
       "      <td>4.010532</td>\n",
       "      <td>2.483765</td>\n",
       "      <td>38.068926</td>\n",
       "      <td>112</td>\n",
       "      <td>112</td>\n",
       "      <td>0.000000</td>\n",
       "    </tr>\n",
       "    <tr>\n",
       "      <th>11</th>\n",
       "      <td>0.5</td>\n",
       "      <td>3.656120</td>\n",
       "      <td>3.156303</td>\n",
       "      <td>13.670699</td>\n",
       "      <td>114</td>\n",
       "      <td>114</td>\n",
       "      <td>0.000000</td>\n",
       "    </tr>\n",
       "    <tr>\n",
       "      <th>12</th>\n",
       "      <td>0.5</td>\n",
       "      <td>5.081846</td>\n",
       "      <td>3.804319</td>\n",
       "      <td>25.139036</td>\n",
       "      <td>99</td>\n",
       "      <td>100</td>\n",
       "      <td>-1.010101</td>\n",
       "    </tr>\n",
       "    <tr>\n",
       "      <th>13</th>\n",
       "      <td>0.5</td>\n",
       "      <td>4.964561</td>\n",
       "      <td>3.630131</td>\n",
       "      <td>26.879125</td>\n",
       "      <td>96</td>\n",
       "      <td>97</td>\n",
       "      <td>-1.041667</td>\n",
       "    </tr>\n",
       "    <tr>\n",
       "      <th>14</th>\n",
       "      <td>0.5</td>\n",
       "      <td>4.122640</td>\n",
       "      <td>3.085589</td>\n",
       "      <td>25.155018</td>\n",
       "      <td>104</td>\n",
       "      <td>104</td>\n",
       "      <td>0.000000</td>\n",
       "    </tr>\n",
       "    <tr>\n",
       "      <th>15</th>\n",
       "      <td>0.5</td>\n",
       "      <td>4.150250</td>\n",
       "      <td>3.103617</td>\n",
       "      <td>25.218549</td>\n",
       "      <td>86</td>\n",
       "      <td>86</td>\n",
       "      <td>0.000000</td>\n",
       "    </tr>\n",
       "    <tr>\n",
       "      <th>16</th>\n",
       "      <td>0.5</td>\n",
       "      <td>3.797369</td>\n",
       "      <td>2.289324</td>\n",
       "      <td>39.712878</td>\n",
       "      <td>82</td>\n",
       "      <td>82</td>\n",
       "      <td>0.000000</td>\n",
       "    </tr>\n",
       "    <tr>\n",
       "      <th>17</th>\n",
       "      <td>0.5</td>\n",
       "      <td>4.435442</td>\n",
       "      <td>3.446976</td>\n",
       "      <td>22.285635</td>\n",
       "      <td>100</td>\n",
       "      <td>100</td>\n",
       "      <td>0.000000</td>\n",
       "    </tr>\n",
       "    <tr>\n",
       "      <th>18</th>\n",
       "      <td>0.5</td>\n",
       "      <td>4.220086</td>\n",
       "      <td>3.442220</td>\n",
       "      <td>18.432480</td>\n",
       "      <td>101</td>\n",
       "      <td>101</td>\n",
       "      <td>0.000000</td>\n",
       "    </tr>\n",
       "    <tr>\n",
       "      <th>19</th>\n",
       "      <td>0.5</td>\n",
       "      <td>4.477967</td>\n",
       "      <td>3.299251</td>\n",
       "      <td>26.322568</td>\n",
       "      <td>104</td>\n",
       "      <td>104</td>\n",
       "      <td>0.000000</td>\n",
       "    </tr>\n",
       "  </tbody>\n",
       "</table>\n",
       "</div>"
      ],
      "text/plain": [
       "    saturation  avg_time_before  avg_time_after  time_improvement  \\\n",
       "0          0.5         3.176367        2.633322         17.096404   \n",
       "1          0.5         4.988344        3.555860         28.716632   \n",
       "2          0.5         6.162925        4.457468         27.672858   \n",
       "3          0.5         6.605439        4.623605         30.003062   \n",
       "4          0.5         6.296557        5.037015         20.003652   \n",
       "5          0.5         4.955131        3.676223         25.809765   \n",
       "6          0.5         4.940649        4.000183         19.035263   \n",
       "7          0.5         4.980294        3.469876         30.327889   \n",
       "8          0.5         7.193862        5.054947         29.732495   \n",
       "9          0.5         4.659484        3.299012         29.197919   \n",
       "10         0.5         4.010532        2.483765         38.068926   \n",
       "11         0.5         3.656120        3.156303         13.670699   \n",
       "12         0.5         5.081846        3.804319         25.139036   \n",
       "13         0.5         4.964561        3.630131         26.879125   \n",
       "14         0.5         4.122640        3.085589         25.155018   \n",
       "15         0.5         4.150250        3.103617         25.218549   \n",
       "16         0.5         3.797369        2.289324         39.712878   \n",
       "17         0.5         4.435442        3.446976         22.285635   \n",
       "18         0.5         4.220086        3.442220         18.432480   \n",
       "19         0.5         4.477967        3.299251         26.322568   \n",
       "\n",
       "    unassigned_before  unassigned_after  unassigned_improvement  \n",
       "0                  90                90                0.000000  \n",
       "1                  94                94                0.000000  \n",
       "2                  89                89                0.000000  \n",
       "3                  85                85                0.000000  \n",
       "4                  97                97                0.000000  \n",
       "5                 103               103                0.000000  \n",
       "6                 101               101                0.000000  \n",
       "7                 106               107               -0.943396  \n",
       "8                 100               100                0.000000  \n",
       "9                 106               106                0.000000  \n",
       "10                112               112                0.000000  \n",
       "11                114               114                0.000000  \n",
       "12                 99               100               -1.010101  \n",
       "13                 96                97               -1.041667  \n",
       "14                104               104                0.000000  \n",
       "15                 86                86                0.000000  \n",
       "16                 82                82                0.000000  \n",
       "17                100               100                0.000000  \n",
       "18                101               101                0.000000  \n",
       "19                104               104                0.000000  "
      ]
     },
     "execution_count": 36,
     "metadata": {},
     "output_type": "execute_result"
    }
   ],
   "source": [
    "results"
   ]
  },
  {
   "cell_type": "code",
   "execution_count": 382,
   "id": "db28e5c6-eee9-4e06-aa75-e74c0902b89b",
   "metadata": {},
   "outputs": [],
   "source": [
    "relocated_couriers = read_csv('results.csv')"
   ]
  },
  {
   "cell_type": "code",
   "execution_count": 394,
   "id": "dc13efce-a411-4c6d-a695-27be132b3f3f",
   "metadata": {},
   "outputs": [
    {
     "data": {
      "text/plain": [
       "count      3807\n",
       "unique        2\n",
       "top       False\n",
       "freq       3318\n",
       "Name: is_relocated, dtype: object"
      ]
     },
     "execution_count": 394,
     "metadata": {},
     "output_type": "execute_result"
    }
   ],
   "source": [
    "relocated_couriers['is_relocated'].describe()"
   ]
  },
  {
   "cell_type": "code",
   "execution_count": null,
   "id": "49318c7c-f057-4816-9d59-17b7e7355850",
   "metadata": {},
   "outputs": [],
   "source": []
  }
 ],
 "metadata": {
  "kernelspec": {
   "display_name": "Python 3.10.4 64-bit ('3.10.4')",
   "language": "python",
   "name": "python3"
  },
  "language_info": {
   "codemirror_mode": {
    "name": "ipython",
    "version": 3
   },
   "file_extension": ".py",
   "mimetype": "text/x-python",
   "name": "python",
   "nbconvert_exporter": "python",
   "pygments_lexer": "ipython3",
   "version": "3.10.4"
  },
  "vscode": {
   "interpreter": {
    "hash": "983892763f045293b12669ccea23931ecb9ae5b119f7eb369e4d175187f2a1b8"
   }
  }
 },
 "nbformat": 4,
 "nbformat_minor": 5
}
